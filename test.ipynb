{
 "cells": [
  {
   "cell_type": "markdown",
   "metadata": {},
   "source": [
    "## version 1.1"
   ]
  },
  {
   "cell_type": "code",
   "execution_count": null,
   "metadata": {},
   "outputs": [],
   "source": [
    "import streamlit as st\n",
    "import os\n",
    "\n",
    "# 确定当前工作目录\n",
    "current_dir = os.getcwd()\n",
    "\n",
    "# Streamlit 应用部分\n",
    "st.title(\"Average TI-acs (within 1 km) across Bay area census tracts\")\n",
    "\n",
    "# 添加下拉菜单选择年份\n",
    "year = st.selectbox(\"Select year\", options=range(2012, 2023), index=0)\n",
    "\n",
    "# 指定图片路径\n",
    "\n",
    "image_path = os.path.join(current_dir, \"figure\",  str (year) + 'L2_DCFC.jpg')\n",
    "\n",
    "# 使用 st.image 显示\n",
    "st.image(image_path, use_container_width=True)"
   ]
  },
  {
   "cell_type": "markdown",
   "metadata": {},
   "source": [
    "## version 1.0"
   ]
  },
  {
   "cell_type": "code",
   "execution_count": null,
   "metadata": {},
   "outputs": [],
   "source": [
    "import streamlit as st\n",
    "\n",
    "# Streamlit 应用部分\n",
    "st.title(\"Average TI-acs (within 1 km) across Bay area census tracts\")\n",
    "\n",
    "# 添加下拉菜单选择年份\n",
    "year = st.selectbox(\"Select year\", options=range(2012, 2023), index=0)\n",
    "\n",
    "# 指定图片路径\n",
    "image_path = 'figure\\\\' + str (year) + 'L2_DCFC.jpg'\n",
    "\n",
    "# 使用 st.image 显示\n",
    "st.image(image_path, use_container_width=True)"
   ]
  }
 ],
 "metadata": {
  "kernelspec": {
   "display_name": "base",
   "language": "python",
   "name": "python3"
  },
  "language_info": {
   "codemirror_mode": {
    "name": "ipython",
    "version": 3
   },
   "file_extension": ".py",
   "mimetype": "text/x-python",
   "name": "python",
   "nbconvert_exporter": "python",
   "pygments_lexer": "ipython3",
   "version": "3.10.9"
  }
 },
 "nbformat": 4,
 "nbformat_minor": 2
}
